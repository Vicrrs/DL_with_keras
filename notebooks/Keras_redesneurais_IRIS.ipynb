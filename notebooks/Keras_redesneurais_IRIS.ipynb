{
  "nbformat": 4,
  "nbformat_minor": 0,
  "metadata": {
    "colab": {
      "provenance": []
    },
    "kernelspec": {
      "name": "python3",
      "display_name": "Python 3"
    },
    "language_info": {
      "name": "python"
    }
  },
  "cells": [
    {
      "cell_type": "markdown",
      "source": [
        "# Redes Neurais com Keras"
      ],
      "metadata": {
        "id": "IfRoOPtOt3wX"
      }
    },
    {
      "cell_type": "code",
      "execution_count": 24,
      "metadata": {
        "id": "0vtLmNo5tL6h"
      },
      "outputs": [],
      "source": [
        "from tensorflow import keras"
      ]
    },
    {
      "cell_type": "markdown",
      "source": [
        "O keras.sequential permite a criação de uma rede neural unindo camadas\n",
        "\n",
        "A camada Dense é uma camada definida no Keras que promove os cálculos e transformações utilizadas na criação de um modelo.\n",
        "\n",
        "* Precisamos definir nela quantos neurônios ela conterá através do parâmetro units e podemos também definir a quantidade de entradas/características\n",
        "que os dados irão conter, para a implementação, vamos começar com dois.\n"
      ],
      "metadata": {
        "id": "9_VwBLuivmgI"
      }
    },
    {
      "cell_type": "code",
      "source": [
        "modelo = keras.Sequential([keras.layers.Dense(units=1, input_shape=[2], name=\"neuronio\")]) # Perceptron"
      ],
      "metadata": {
        "id": "UpUnrbtpunSr"
      },
      "execution_count": 25,
      "outputs": []
    },
    {
      "cell_type": "markdown",
      "source": [
        "\n",
        "\n",
        "Explicação:\n",
        "\n",
        "  O Sequential cria um modelo muito simples (um dos mais simples no Keras) de redes neurais. Desse modo, é construida somente uma única pilha de camadas sequencialmente conectadas.\n",
        "  A camada Dense é criada com 1 neurônio, representando o perceptron. A camada é responsável por cada peso contido nela bem como a inputação do vetor de viéses.\n",
        "\n",
        "    units: informa a quantidade de neurônios que a camada Dense terá;\n",
        "    input_shape: define a quantidade de entradas no modelo neural; e\n",
        "    name: permite nomearmos essa camada.\n",
        "\n"
      ],
      "metadata": {
        "id": "OnoRJzXbwIPj"
      }
    },
    {
      "cell_type": "markdown",
      "source": [
        "\n",
        "Utilidades do modelo\n",
        "\n",
        "Estrutura\n",
        "\n",
        "Podemos entender a esturtura do modelo (perceptron) criado através do método summary e a função utils.plot_model da biblioteca keras"
      ],
      "metadata": {
        "id": "5qLmOtXSwqOi"
      }
    },
    {
      "cell_type": "code",
      "source": [
        "modelo.summary()"
      ],
      "metadata": {
        "colab": {
          "base_uri": "https://localhost:8080/"
        },
        "id": "TIVPltcLwEZo",
        "outputId": "75aa7aeb-58b2-48cc-cb67-16c9e8334198"
      },
      "execution_count": 26,
      "outputs": [
        {
          "output_type": "stream",
          "name": "stdout",
          "text": [
            "Model: \"sequential_2\"\n",
            "_________________________________________________________________\n",
            " Layer (type)                Output Shape              Param #   \n",
            "=================================================================\n",
            " neuronio (Dense)            (None, 1)                 3         \n",
            "                                                                 \n",
            "=================================================================\n",
            "Total params: 3 (12.00 Byte)\n",
            "Trainable params: 3 (12.00 Byte)\n",
            "Non-trainable params: 0 (0.00 Byte)\n",
            "_________________________________________________________________\n"
          ]
        }
      ]
    },
    {
      "cell_type": "markdown",
      "source": [
        "\n",
        "\n",
        "A única camada que temos é o próprio neurônio que criamos. O parâmetro dado nela é definido como 3 pois é considerado a soma da quantidade de pesos mais a quantidade de viéses.\n",
        "\n",
        "Os pesos são calculados multiplicando a quantidade de neurônios pela quantidade de entradas, desse modo, como definimos 2 entradas e 1 neurônio, teremos 2 * 1 = 2 pesos, adicionadno o viés que é igual a quantidade de neurônios temos 2 + 1 = 3 parâmetros.\n"
      ],
      "metadata": {
        "id": "QyWM6mA8w7Zg"
      }
    },
    {
      "cell_type": "code",
      "source": [
        "keras.utils.plot_model(modelo, show_shapes=True)"
      ],
      "metadata": {
        "colab": {
          "base_uri": "https://localhost:8080/",
          "height": 201
        },
        "id": "2Mq4rsGqxDY5",
        "outputId": "0884640f-3345-4686-d446-df5e6154ce1d"
      },
      "execution_count": 27,
      "outputs": [
        {
          "output_type": "execute_result",
          "data": {
            "image/png": "[encoded data removed]",
            "text/plain": [
              "<IPython.core.display.Image object>"
            ]
          },
          "metadata": {},
          "execution_count": 27
        }
      ]
    },
    {
      "cell_type": "markdown",
      "source": [
        "Pesos e viéses\n",
        "\n",
        "\n",
        "Para identificar os pesos e viés que o modelo vai inicializar, podemos utilizar o método get_weights() e o método layers()\n",
        "\n",
        "* layers: retorna uma lista contendo a camada do modelo criado.\n",
        "\n",
        "* get_weights: coleta os pesos e vieses da camada enviada como objeto e o retorna como lista."
      ],
      "metadata": {
        "id": "Vg8D4lZ2ePJ-"
      }
    },
    {
      "cell_type": "code",
      "source": [
        "modelo.layers"
      ],
      "metadata": {
        "id": "FogNvyadxLpK",
        "colab": {
          "base_uri": "https://localhost:8080/"
        },
        "outputId": "54b9be5f-974a-4895-abb9-1f39d9aa8c77"
      },
      "execution_count": 28,
      "outputs": [
        {
          "output_type": "execute_result",
          "data": {
            "text/plain": [
              "[<keras.src.layers.core.dense.Dense at 0x7dc765c250f0>]"
            ]
          },
          "metadata": {},
          "execution_count": 28
        }
      ]
    },
    {
      "cell_type": "code",
      "source": [
        "modelo.layers[0].get_weights()"
      ],
      "metadata": {
        "colab": {
          "base_uri": "https://localhost:8080/"
        },
        "id": "PAgopXznfEGS",
        "outputId": "ddfbef22-0d04-4d0a-95e4-ed398fc5337c"
      },
      "execution_count": 29,
      "outputs": [
        {
          "output_type": "execute_result",
          "data": {
            "text/plain": [
              "[array([[1.2998041 ],\n",
              "        [0.85871327]], dtype=float32),\n",
              " array([0.], dtype=float32)]"
            ]
          },
          "metadata": {},
          "execution_count": 29
        }
      ]
    },
    {
      "cell_type": "code",
      "source": [
        "peso, bias = modelo.layers[0].get_weights()\n",
        "print(f\"Pesos: {peso.shape}\")\n",
        "peso"
      ],
      "metadata": {
        "colab": {
          "base_uri": "https://localhost:8080/"
        },
        "id": "1lBEXy2ifJJj",
        "outputId": "d07d3e09-e432-4e64-c86b-287935deb90a"
      },
      "execution_count": 30,
      "outputs": [
        {
          "output_type": "stream",
          "name": "stdout",
          "text": [
            "Pesos: (2, 1)\n"
          ]
        },
        {
          "output_type": "execute_result",
          "data": {
            "text/plain": [
              "array([[1.2998041 ],\n",
              "       [0.85871327]], dtype=float32)"
            ]
          },
          "metadata": {},
          "execution_count": 30
        }
      ]
    },
    {
      "cell_type": "code",
      "source": [
        "print(f\"Pesos: {bias.shape}\")\n",
        "bias"
      ],
      "metadata": {
        "colab": {
          "base_uri": "https://localhost:8080/"
        },
        "id": "CUh9hvlYfZ4_",
        "outputId": "7d3dbaf1-a546-4005-d401-7dbb3e34d1a0"
      },
      "execution_count": 31,
      "outputs": [
        {
          "output_type": "stream",
          "name": "stdout",
          "text": [
            "Pesos: (1,)\n"
          ]
        },
        {
          "output_type": "execute_result",
          "data": {
            "text/plain": [
              "array([0.], dtype=float32)"
            ]
          },
          "metadata": {},
          "execution_count": 31
        }
      ]
    },
    {
      "cell_type": "markdown",
      "source": [
        "### Inicializando\n",
        "\n",
        "É possivel definir os pesos e vieses antes de crair o modelo, para isso utilizamos dois parâmetros.\n",
        "\n",
        "* kernel_initializer: inicializa a matriz de pesos do modelo\n",
        "\n",
        "* bias_initializer: inicializa os valores de vieses\n",
        "\n",
        "Para definir os pesos inciais, utlilizamos dois métodos de keras.initializers:\n",
        "\n",
        "\n",
        "* keras.initializers.RandomNormal() para os pesos\n",
        "* keras.initializers.Ones() para o bias"
      ],
      "metadata": {
        "id": "0bDoqGznfyku"
      }
    },
    {
      "cell_type": "code",
      "source": [
        "modelo = keras.Sequential([keras.layers.Dense(units=1, input_shape=[2], name=\"neuronio\",\n",
        "                                              kernel_initializer=keras.initializers.RandomNormal(),\n",
        "                                              bias_initializer = keras.initializers.Ones())]) # Perceptron"
      ],
      "metadata": {
        "id": "JzQ7FGNPfmLF"
      },
      "execution_count": 32,
      "outputs": []
    },
    {
      "cell_type": "code",
      "source": [
        "modelo.layers[0].get_weights()"
      ],
      "metadata": {
        "colab": {
          "base_uri": "https://localhost:8080/"
        },
        "id": "SObT8zgWylMb",
        "outputId": "15621f52-02a9-4dda-c035-26f9e7e1a0e4"
      },
      "execution_count": 33,
      "outputs": [
        {
          "output_type": "execute_result",
          "data": {
            "text/plain": [
              "[array([[ 0.09094335],\n",
              "        [-0.01218534]], dtype=float32),\n",
              " array([1.], dtype=float32)]"
            ]
          },
          "metadata": {},
          "execution_count": 33
        }
      ]
    },
    {
      "cell_type": "markdown",
      "source": [
        "## Importando dados"
      ],
      "metadata": {
        "id": "mR37OUQXBoGT"
      }
    },
    {
      "cell_type": "code",
      "source": [
        "from sklearn import datasets"
      ],
      "metadata": {
        "id": "wTv3Jwhyyvc6"
      },
      "execution_count": 34,
      "outputs": []
    },
    {
      "cell_type": "code",
      "source": [
        "iris = datasets.load_iris(return_X_y=True)\n",
        "x = iris[0]\n",
        "y = iris[1]\n",
        "x"
      ],
      "metadata": {
        "colab": {
          "base_uri": "https://localhost:8080/"
        },
        "id": "lGDOqv20BwBG",
        "outputId": "32c5bd64-c3bc-44a0-e902-6fc195c0f6a5"
      },
      "execution_count": 35,
      "outputs": [
        {
          "output_type": "execute_result",
          "data": {
            "text/plain": [
              "array([[5.1, 3.5, 1.4, 0.2],\n",
              "       [4.9, 3. , 1.4, 0.2],\n",
              "       [4.7, 3.2, 1.3, 0.2],\n",
              "       [4.6, 3.1, 1.5, 0.2],\n",
              "       [5. , 3.6, 1.4, 0.2],\n",
              "       [5.4, 3.9, 1.7, 0.4],\n",
              "       [4.6, 3.4, 1.4, 0.3],\n",
              "       [5. , 3.4, 1.5, 0.2],\n",
              "       [4.4, 2.9, 1.4, 0.2],\n",
              "       [4.9, 3.1, 1.5, 0.1],\n",
              "       [5.4, 3.7, 1.5, 0.2],\n",
              "       [4.8, 3.4, 1.6, 0.2],\n",
              "       [4.8, 3. , 1.4, 0.1],\n",
              "       [4.3, 3. , 1.1, 0.1],\n",
              "       [5.8, 4. , 1.2, 0.2],\n",
              "       [5.7, 4.4, 1.5, 0.4],\n",
              "       [5.4, 3.9, 1.3, 0.4],\n",
              "       [5.1, 3.5, 1.4, 0.3],\n",
              "       [5.7, 3.8, 1.7, 0.3],\n",
              "       [5.1, 3.8, 1.5, 0.3],\n",
              "       [5.4, 3.4, 1.7, 0.2],\n",
              "       [5.1, 3.7, 1.5, 0.4],\n",
              "       [4.6, 3.6, 1. , 0.2],\n",
              "       [5.1, 3.3, 1.7, 0.5],\n",
              "       [4.8, 3.4, 1.9, 0.2],\n",
              "       [5. , 3. , 1.6, 0.2],\n",
              "       [5. , 3.4, 1.6, 0.4],\n",
              "       [5.2, 3.5, 1.5, 0.2],\n",
              "       [5.2, 3.4, 1.4, 0.2],\n",
              "       [4.7, 3.2, 1.6, 0.2],\n",
              "       [4.8, 3.1, 1.6, 0.2],\n",
              "       [5.4, 3.4, 1.5, 0.4],\n",
              "       [5.2, 4.1, 1.5, 0.1],\n",
              "       [5.5, 4.2, 1.4, 0.2],\n",
              "       [4.9, 3.1, 1.5, 0.2],\n",
              "       [5. , 3.2, 1.2, 0.2],\n",
              "       [5.5, 3.5, 1.3, 0.2],\n",
              "       [4.9, 3.6, 1.4, 0.1],\n",
              "       [4.4, 3. , 1.3, 0.2],\n",
              "       [5.1, 3.4, 1.5, 0.2],\n",
              "       [5. , 3.5, 1.3, 0.3],\n",
              "       [4.5, 2.3, 1.3, 0.3],\n",
              "       [4.4, 3.2, 1.3, 0.2],\n",
              "       [5. , 3.5, 1.6, 0.6],\n",
              "       [5.1, 3.8, 1.9, 0.4],\n",
              "       [4.8, 3. , 1.4, 0.3],\n",
              "       [5.1, 3.8, 1.6, 0.2],\n",
              "       [4.6, 3.2, 1.4, 0.2],\n",
              "       [5.3, 3.7, 1.5, 0.2],\n",
              "       [5. , 3.3, 1.4, 0.2],\n",
              "       [7. , 3.2, 4.7, 1.4],\n",
              "       [6.4, 3.2, 4.5, 1.5],\n",
              "       [6.9, 3.1, 4.9, 1.5],\n",
              "       [5.5, 2.3, 4. , 1.3],\n",
              "       [6.5, 2.8, 4.6, 1.5],\n",
              "       [5.7, 2.8, 4.5, 1.3],\n",
              "       [6.3, 3.3, 4.7, 1.6],\n",
              "       [4.9, 2.4, 3.3, 1. ],\n",
              "       [6.6, 2.9, 4.6, 1.3],\n",
              "       [5.2, 2.7, 3.9, 1.4],\n",
              "       [5. , 2. , 3.5, 1. ],\n",
              "       [5.9, 3. , 4.2, 1.5],\n",
              "       [6. , 2.2, 4. , 1. ],\n",
              "       [6.1, 2.9, 4.7, 1.4],\n",
              "       [5.6, 2.9, 3.6, 1.3],\n",
              "       [6.7, 3.1, 4.4, 1.4],\n",
              "       [5.6, 3. , 4.5, 1.5],\n",
              "       [5.8, 2.7, 4.1, 1. ],\n",
              "       [6.2, 2.2, 4.5, 1.5],\n",
              "       [5.6, 2.5, 3.9, 1.1],\n",
              "       [5.9, 3.2, 4.8, 1.8],\n",
              "       [6.1, 2.8, 4. , 1.3],\n",
              "       [6.3, 2.5, 4.9, 1.5],\n",
              "       [6.1, 2.8, 4.7, 1.2],\n",
              "       [6.4, 2.9, 4.3, 1.3],\n",
              "       [6.6, 3. , 4.4, 1.4],\n",
              "       [6.8, 2.8, 4.8, 1.4],\n",
              "       [6.7, 3. , 5. , 1.7],\n",
              "       [6. , 2.9, 4.5, 1.5],\n",
              "       [5.7, 2.6, 3.5, 1. ],\n",
              "       [5.5, 2.4, 3.8, 1.1],\n",
              "       [5.5, 2.4, 3.7, 1. ],\n",
              "       [5.8, 2.7, 3.9, 1.2],\n",
              "       [6. , 2.7, 5.1, 1.6],\n",
              "       [5.4, 3. , 4.5, 1.5],\n",
              "       [6. , 3.4, 4.5, 1.6],\n",
              "       [6.7, 3.1, 4.7, 1.5],\n",
              "       [6.3, 2.3, 4.4, 1.3],\n",
              "       [5.6, 3. , 4.1, 1.3],\n",
              "       [5.5, 2.5, 4. , 1.3],\n",
              "       [5.5, 2.6, 4.4, 1.2],\n",
              "       [6.1, 3. , 4.6, 1.4],\n",
              "       [5.8, 2.6, 4. , 1.2],\n",
              "       [5. , 2.3, 3.3, 1. ],\n",
              "       [5.6, 2.7, 4.2, 1.3],\n",
              "       [5.7, 3. , 4.2, 1.2],\n",
              "       [5.7, 2.9, 4.2, 1.3],\n",
              "       [6.2, 2.9, 4.3, 1.3],\n",
              "       [5.1, 2.5, 3. , 1.1],\n",
              "       [5.7, 2.8, 4.1, 1.3],\n",
              "       [6.3, 3.3, 6. , 2.5],\n",
              "       [5.8, 2.7, 5.1, 1.9],\n",
              "       [7.1, 3. , 5.9, 2.1],\n",
              "       [6.3, 2.9, 5.6, 1.8],\n",
              "       [6.5, 3. , 5.8, 2.2],\n",
              "       [7.6, 3. , 6.6, 2.1],\n",
              "       [4.9, 2.5, 4.5, 1.7],\n",
              "       [7.3, 2.9, 6.3, 1.8],\n",
              "       [6.7, 2.5, 5.8, 1.8],\n",
              "       [7.2, 3.6, 6.1, 2.5],\n",
              "       [6.5, 3.2, 5.1, 2. ],\n",
              "       [6.4, 2.7, 5.3, 1.9],\n",
              "       [6.8, 3. , 5.5, 2.1],\n",
              "       [5.7, 2.5, 5. , 2. ],\n",
              "       [5.8, 2.8, 5.1, 2.4],\n",
              "       [6.4, 3.2, 5.3, 2.3],\n",
              "       [6.5, 3. , 5.5, 1.8],\n",
              "       [7.7, 3.8, 6.7, 2.2],\n",
              "       [7.7, 2.6, 6.9, 2.3],\n",
              "       [6. , 2.2, 5. , 1.5],\n",
              "       [6.9, 3.2, 5.7, 2.3],\n",
              "       [5.6, 2.8, 4.9, 2. ],\n",
              "       [7.7, 2.8, 6.7, 2. ],\n",
              "       [6.3, 2.7, 4.9, 1.8],\n",
              "       [6.7, 3.3, 5.7, 2.1],\n",
              "       [7.2, 3.2, 6. , 1.8],\n",
              "       [6.2, 2.8, 4.8, 1.8],\n",
              "       [6.1, 3. , 4.9, 1.8],\n",
              "       [6.4, 2.8, 5.6, 2.1],\n",
              "       [7.2, 3. , 5.8, 1.6],\n",
              "       [7.4, 2.8, 6.1, 1.9],\n",
              "       [7.9, 3.8, 6.4, 2. ],\n",
              "       [6.4, 2.8, 5.6, 2.2],\n",
              "       [6.3, 2.8, 5.1, 1.5],\n",
              "       [6.1, 2.6, 5.6, 1.4],\n",
              "       [7.7, 3. , 6.1, 2.3],\n",
              "       [6.3, 3.4, 5.6, 2.4],\n",
              "       [6.4, 3.1, 5.5, 1.8],\n",
              "       [6. , 3. , 4.8, 1.8],\n",
              "       [6.9, 3.1, 5.4, 2.1],\n",
              "       [6.7, 3.1, 5.6, 2.4],\n",
              "       [6.9, 3.1, 5.1, 2.3],\n",
              "       [5.8, 2.7, 5.1, 1.9],\n",
              "       [6.8, 3.2, 5.9, 2.3],\n",
              "       [6.7, 3.3, 5.7, 2.5],\n",
              "       [6.7, 3. , 5.2, 2.3],\n",
              "       [6.3, 2.5, 5. , 1.9],\n",
              "       [6.5, 3. , 5.2, 2. ],\n",
              "       [6.2, 3.4, 5.4, 2.3],\n",
              "       [5.9, 3. , 5.1, 1.8]])"
            ]
          },
          "metadata": {},
          "execution_count": 35
        }
      ]
    },
    {
      "cell_type": "code",
      "source": [
        "datasets.load_iris()['feature_names']"
      ],
      "metadata": {
        "colab": {
          "base_uri": "https://localhost:8080/"
        },
        "id": "_hGHhko1CCD4",
        "outputId": "f1c7ffb5-8aa4-4914-9feb-c6728eb420f4"
      },
      "execution_count": 36,
      "outputs": [
        {
          "output_type": "execute_result",
          "data": {
            "text/plain": [
              "['sepal length (cm)',\n",
              " 'sepal width (cm)',\n",
              " 'petal length (cm)',\n",
              " 'petal width (cm)']"
            ]
          },
          "metadata": {},
          "execution_count": 36
        }
      ]
    },
    {
      "cell_type": "code",
      "source": [
        "y"
      ],
      "metadata": {
        "colab": {
          "base_uri": "https://localhost:8080/"
        },
        "id": "9fakr4LECJw-",
        "outputId": "5b65cd6a-2b55-41d8-af39-80f403a8b82e"
      },
      "execution_count": 37,
      "outputs": [
        {
          "output_type": "execute_result",
          "data": {
            "text/plain": [
              "array([0, 0, 0, 0, 0, 0, 0, 0, 0, 0, 0, 0, 0, 0, 0, 0, 0, 0, 0, 0, 0, 0,\n",
              "       0, 0, 0, 0, 0, 0, 0, 0, 0, 0, 0, 0, 0, 0, 0, 0, 0, 0, 0, 0, 0, 0,\n",
              "       0, 0, 0, 0, 0, 0, 1, 1, 1, 1, 1, 1, 1, 1, 1, 1, 1, 1, 1, 1, 1, 1,\n",
              "       1, 1, 1, 1, 1, 1, 1, 1, 1, 1, 1, 1, 1, 1, 1, 1, 1, 1, 1, 1, 1, 1,\n",
              "       1, 1, 1, 1, 1, 1, 1, 1, 1, 1, 1, 1, 2, 2, 2, 2, 2, 2, 2, 2, 2, 2,\n",
              "       2, 2, 2, 2, 2, 2, 2, 2, 2, 2, 2, 2, 2, 2, 2, 2, 2, 2, 2, 2, 2, 2,\n",
              "       2, 2, 2, 2, 2, 2, 2, 2, 2, 2, 2, 2, 2, 2, 2, 2, 2, 2])"
            ]
          },
          "metadata": {},
          "execution_count": 37
        }
      ]
    },
    {
      "cell_type": "code",
      "source": [
        "datasets.load_iris()['target_names']"
      ],
      "metadata": {
        "colab": {
          "base_uri": "https://localhost:8080/"
        },
        "id": "yyZYqctlCNYg",
        "outputId": "bcd48a54-c7c2-4781-87dd-1d31442f00e4"
      },
      "execution_count": 38,
      "outputs": [
        {
          "output_type": "execute_result",
          "data": {
            "text/plain": [
              "array(['setosa', 'versicolor', 'virginica'], dtype='<U10')"
            ]
          },
          "metadata": {},
          "execution_count": 38
        }
      ]
    },
    {
      "cell_type": "code",
      "source": [
        "import matplotlib.pyplot as plt\n",
        "import seaborn as sns\n",
        "\n",
        "sns.scatterplot(x=x[:,2], y=x[:,3], hue=y, palette='tab10')\n",
        "plt.xlabel('comprimento (cm)', fontsize=16)\n",
        "plt.ylabel('largura (cm)', fontsize=16)\n",
        "plt.title('Distribuição petalas', fontsize=18)\n",
        "plt.show()"
      ],
      "metadata": {
        "colab": {
          "base_uri": "https://localhost:8080/",
          "height": 483
        },
        "id": "ZTB8oXpLGeBc",
        "outputId": "1bb410ec-1b7e-4e64-fae0-f3b8393478a6"
      },
      "execution_count": 39,
      "outputs": [
        {
          "output_type": "display_data",
          "data": {
            "text/plain": [
              "<Figure size 640x480 with 1 Axes>"
            ],
            "image/png": "[encoded data removed]"
          },
          "metadata": {}
        }
      ]
    },
    {
      "cell_type": "code",
      "source": [
        "sns.scatterplot(x=x[:,0], y=x[:,1], hue=y, palette='tab10')\n",
        "plt.xlabel('comprimento (cm)', fontsize=16)\n",
        "plt.ylabel('largura (cm)', fontsize=16)\n",
        "plt.title('Distribuição sepalas', fontsize=18)\n",
        "plt.show()"
      ],
      "metadata": {
        "colab": {
          "base_uri": "https://localhost:8080/",
          "height": 483
        },
        "id": "VlpZcN8PHfCC",
        "outputId": "39b7a0af-3b73-4ce3-8b99-bcea1fc16df9"
      },
      "execution_count": 40,
      "outputs": [
        {
          "output_type": "display_data",
          "data": {
            "text/plain": [
              "<Figure size 640x480 with 1 Axes>"
            ],
            "image/png": "[encoded data removed]"
          },
          "metadata": {}
        }
      ]
    },
    {
      "cell_type": "markdown",
      "source": [
        "## Tratamento"
      ],
      "metadata": {
        "id": "YepOzsA9LQQk"
      }
    },
    {
      "cell_type": "markdown",
      "source": [
        "### Categorização"
      ],
      "metadata": {
        "id": "n1UNUHECMEqn"
      }
    },
    {
      "cell_type": "code",
      "source": [
        "y.shape"
      ],
      "metadata": {
        "id": "PaTWB449LO02",
        "colab": {
          "base_uri": "https://localhost:8080/"
        },
        "outputId": "c30ffdf3-b984-483b-d763-7c541b7f4017"
      },
      "execution_count": 41,
      "outputs": [
        {
          "output_type": "execute_result",
          "data": {
            "text/plain": [
              "(150,)"
            ]
          },
          "metadata": {},
          "execution_count": 41
        }
      ]
    },
    {
      "cell_type": "code",
      "source": [
        "y = keras.utils.to_categorical(y)\n",
        "y.shape"
      ],
      "metadata": {
        "id": "uz56t-6ILO4B",
        "colab": {
          "base_uri": "https://localhost:8080/"
        },
        "outputId": "c3264c92-c33c-47d4-e2fd-a4b164e0f53e"
      },
      "execution_count": 42,
      "outputs": [
        {
          "output_type": "execute_result",
          "data": {
            "text/plain": [
              "(150, 3)"
            ]
          },
          "metadata": {},
          "execution_count": 42
        }
      ]
    },
    {
      "cell_type": "code",
      "source": [
        "y\n"
      ],
      "metadata": {
        "id": "SiJx8noOLO69",
        "colab": {
          "base_uri": "https://localhost:8080/"
        },
        "outputId": "368f9680-218d-4498-811c-b92bc09ea265"
      },
      "execution_count": 43,
      "outputs": [
        {
          "output_type": "execute_result",
          "data": {
            "text/plain": [
              "array([[1., 0., 0.],\n",
              "       [1., 0., 0.],\n",
              "       [1., 0., 0.],\n",
              "       [1., 0., 0.],\n",
              "       [1., 0., 0.],\n",
              "       [1., 0., 0.],\n",
              "       [1., 0., 0.],\n",
              "       [1., 0., 0.],\n",
              "       [1., 0., 0.],\n",
              "       [1., 0., 0.],\n",
              "       [1., 0., 0.],\n",
              "       [1., 0., 0.],\n",
              "       [1., 0., 0.],\n",
              "       [1., 0., 0.],\n",
              "       [1., 0., 0.],\n",
              "       [1., 0., 0.],\n",
              "       [1., 0., 0.],\n",
              "       [1., 0., 0.],\n",
              "       [1., 0., 0.],\n",
              "       [1., 0., 0.],\n",
              "       [1., 0., 0.],\n",
              "       [1., 0., 0.],\n",
              "       [1., 0., 0.],\n",
              "       [1., 0., 0.],\n",
              "       [1., 0., 0.],\n",
              "       [1., 0., 0.],\n",
              "       [1., 0., 0.],\n",
              "       [1., 0., 0.],\n",
              "       [1., 0., 0.],\n",
              "       [1., 0., 0.],\n",
              "       [1., 0., 0.],\n",
              "       [1., 0., 0.],\n",
              "       [1., 0., 0.],\n",
              "       [1., 0., 0.],\n",
              "       [1., 0., 0.],\n",
              "       [1., 0., 0.],\n",
              "       [1., 0., 0.],\n",
              "       [1., 0., 0.],\n",
              "       [1., 0., 0.],\n",
              "       [1., 0., 0.],\n",
              "       [1., 0., 0.],\n",
              "       [1., 0., 0.],\n",
              "       [1., 0., 0.],\n",
              "       [1., 0., 0.],\n",
              "       [1., 0., 0.],\n",
              "       [1., 0., 0.],\n",
              "       [1., 0., 0.],\n",
              "       [1., 0., 0.],\n",
              "       [1., 0., 0.],\n",
              "       [1., 0., 0.],\n",
              "       [0., 1., 0.],\n",
              "       [0., 1., 0.],\n",
              "       [0., 1., 0.],\n",
              "       [0., 1., 0.],\n",
              "       [0., 1., 0.],\n",
              "       [0., 1., 0.],\n",
              "       [0., 1., 0.],\n",
              "       [0., 1., 0.],\n",
              "       [0., 1., 0.],\n",
              "       [0., 1., 0.],\n",
              "       [0., 1., 0.],\n",
              "       [0., 1., 0.],\n",
              "       [0., 1., 0.],\n",
              "       [0., 1., 0.],\n",
              "       [0., 1., 0.],\n",
              "       [0., 1., 0.],\n",
              "       [0., 1., 0.],\n",
              "       [0., 1., 0.],\n",
              "       [0., 1., 0.],\n",
              "       [0., 1., 0.],\n",
              "       [0., 1., 0.],\n",
              "       [0., 1., 0.],\n",
              "       [0., 1., 0.],\n",
              "       [0., 1., 0.],\n",
              "       [0., 1., 0.],\n",
              "       [0., 1., 0.],\n",
              "       [0., 1., 0.],\n",
              "       [0., 1., 0.],\n",
              "       [0., 1., 0.],\n",
              "       [0., 1., 0.],\n",
              "       [0., 1., 0.],\n",
              "       [0., 1., 0.],\n",
              "       [0., 1., 0.],\n",
              "       [0., 1., 0.],\n",
              "       [0., 1., 0.],\n",
              "       [0., 1., 0.],\n",
              "       [0., 1., 0.],\n",
              "       [0., 1., 0.],\n",
              "       [0., 1., 0.],\n",
              "       [0., 1., 0.],\n",
              "       [0., 1., 0.],\n",
              "       [0., 1., 0.],\n",
              "       [0., 1., 0.],\n",
              "       [0., 1., 0.],\n",
              "       [0., 1., 0.],\n",
              "       [0., 1., 0.],\n",
              "       [0., 1., 0.],\n",
              "       [0., 1., 0.],\n",
              "       [0., 1., 0.],\n",
              "       [0., 1., 0.],\n",
              "       [0., 0., 1.],\n",
              "       [0., 0., 1.],\n",
              "       [0., 0., 1.],\n",
              "       [0., 0., 1.],\n",
              "       [0., 0., 1.],\n",
              "       [0., 0., 1.],\n",
              "       [0., 0., 1.],\n",
              "       [0., 0., 1.],\n",
              "       [0., 0., 1.],\n",
              "       [0., 0., 1.],\n",
              "       [0., 0., 1.],\n",
              "       [0., 0., 1.],\n",
              "       [0., 0., 1.],\n",
              "       [0., 0., 1.],\n",
              "       [0., 0., 1.],\n",
              "       [0., 0., 1.],\n",
              "       [0., 0., 1.],\n",
              "       [0., 0., 1.],\n",
              "       [0., 0., 1.],\n",
              "       [0., 0., 1.],\n",
              "       [0., 0., 1.],\n",
              "       [0., 0., 1.],\n",
              "       [0., 0., 1.],\n",
              "       [0., 0., 1.],\n",
              "       [0., 0., 1.],\n",
              "       [0., 0., 1.],\n",
              "       [0., 0., 1.],\n",
              "       [0., 0., 1.],\n",
              "       [0., 0., 1.],\n",
              "       [0., 0., 1.],\n",
              "       [0., 0., 1.],\n",
              "       [0., 0., 1.],\n",
              "       [0., 0., 1.],\n",
              "       [0., 0., 1.],\n",
              "       [0., 0., 1.],\n",
              "       [0., 0., 1.],\n",
              "       [0., 0., 1.],\n",
              "       [0., 0., 1.],\n",
              "       [0., 0., 1.],\n",
              "       [0., 0., 1.],\n",
              "       [0., 0., 1.],\n",
              "       [0., 0., 1.],\n",
              "       [0., 0., 1.],\n",
              "       [0., 0., 1.],\n",
              "       [0., 0., 1.],\n",
              "       [0., 0., 1.],\n",
              "       [0., 0., 1.],\n",
              "       [0., 0., 1.],\n",
              "       [0., 0., 1.],\n",
              "       [0., 0., 1.]], dtype=float32)"
            ]
          },
          "metadata": {},
          "execution_count": 43
        }
      ]
    },
    {
      "cell_type": "markdown",
      "source": [
        "## Normalização\n",
        "\n",
        "Os dados serão normalizados entre [0,1], para isso utilizamos o método `MinMaxScaler`"
      ],
      "metadata": {
        "id": "YEhhg-95a6Jk"
      }
    },
    {
      "cell_type": "code",
      "source": [
        "from sklearn.preprocessing import MinMaxScaler\n",
        "\n",
        "scaler = MinMaxScaler()\n",
        "x = scaler.fit_transform(x)"
      ],
      "metadata": {
        "id": "iCX0zZC9LO95"
      },
      "execution_count": 44,
      "outputs": []
    },
    {
      "cell_type": "markdown",
      "source": [
        "## Separação de conjunto\n",
        "\n",
        "A separação em conjuntos de treino e teste garantem um melhor processo de criação do modelo.\n",
        "\n",
        "80% - Treino\n",
        "20% - Teste"
      ],
      "metadata": {
        "id": "httyk9Ebbcus"
      }
    },
    {
      "cell_type": "code",
      "source": [
        "from sklearn.model_selection import train_test_split\n",
        "\n",
        "x_treino, x_teste, y_treino, y_teste = train_test_split(x, y, test_size=0.2, stratify=y, random_state=42)"
      ],
      "metadata": {
        "id": "G5FPjMOpLPAq"
      },
      "execution_count": 48,
      "outputs": []
    },
    {
      "cell_type": "code",
      "source": [
        "x_treino.shape"
      ],
      "metadata": {
        "colab": {
          "base_uri": "https://localhost:8080/"
        },
        "id": "gr-BJlL3nAWL",
        "outputId": "8c2913f4-0a8f-4917-fbd6-4ac5ed263899"
      },
      "execution_count": 53,
      "outputs": [
        {
          "output_type": "execute_result",
          "data": {
            "text/plain": [
              "(120, 4)"
            ]
          },
          "metadata": {},
          "execution_count": 53
        }
      ]
    },
    {
      "cell_type": "code",
      "source": [
        "x_teste.shape"
      ],
      "metadata": {
        "colab": {
          "base_uri": "https://localhost:8080/"
        },
        "id": "he3B3ncunGxK",
        "outputId": "d9a633c0-59bf-494d-ab9c-f64a1c786720"
      },
      "execution_count": 54,
      "outputs": [
        {
          "output_type": "execute_result",
          "data": {
            "text/plain": [
              "(30, 4)"
            ]
          },
          "metadata": {},
          "execution_count": 54
        }
      ]
    },
    {
      "cell_type": "code",
      "source": [
        "y_treino.shape"
      ],
      "metadata": {
        "colab": {
          "base_uri": "https://localhost:8080/"
        },
        "id": "Yfu7ZmHunGKD",
        "outputId": "735ca8e3-f2bc-4013-e809-761060e29a02"
      },
      "execution_count": 55,
      "outputs": [
        {
          "output_type": "execute_result",
          "data": {
            "text/plain": [
              "(120, 3)"
            ]
          },
          "metadata": {},
          "execution_count": 55
        }
      ]
    },
    {
      "cell_type": "code",
      "source": [
        "y_teste.shape"
      ],
      "metadata": {
        "colab": {
          "base_uri": "https://localhost:8080/"
        },
        "id": "rhLyJ34NnIzj",
        "outputId": "f072992d-cb19-428f-ec09-e9b3c2138d8f"
      },
      "execution_count": 56,
      "outputs": [
        {
          "output_type": "execute_result",
          "data": {
            "text/plain": [
              "(30, 3)"
            ]
          },
          "metadata": {},
          "execution_count": 56
        }
      ]
    },
    {
      "cell_type": "markdown",
      "source": [
        "## Modelo MLP"
      ],
      "metadata": {
        "id": "3AZBa4FjnUa7"
      }
    },
    {
      "cell_type": "markdown",
      "source": [
        "### Criação do modelo\n",
        "\n",
        "Fazemos um modelo MLP definido por 1 camada de entrada, 1 camada oculta e 1 camada de saída.\n",
        "\n",
        "### Modelo Sequencial\n",
        "\n",
        "```python\n",
        "modelo = keras.Sequential([...])\n",
        "```\n",
        "\n",
        "- `keras.Sequential`: Este é um tipo de modelo no Keras que é linearmente empilhado. Você pode criar um modelo `Sequential` e adicionar camadas a ele de maneira sequencial. Esse modelo é apropriado para uma pilha simples de camadas onde cada camada tem exatamente um tensor de entrada e um tensor de saída.\n",
        "\n",
        "### Camada de Entrada\n",
        "\n",
        "```python\n",
        "keras.layers.InputLayer(input_shape=[4,], name='entrada')\n",
        "```\n",
        "\n",
        "- `keras.layers.InputLayer`: Define a camada de entrada do seu modelo. É aqui que você especifica a forma do tensor de entrada que sua rede espera. Neste caso, `input_shape=[4,]` indica que sua rede espera entradas com 4 características (por exemplo, 4 variáveis independentes em um problema de classificação ou regressão).\n",
        "\n",
        "- `name='entrada'`: Este é um argumento nomeado que permite dar um nome específico a essa camada. Isso é útil para referência e visualização.\n",
        "\n",
        "### Primeira Camada Densa\n",
        "\n",
        "```python\n",
        "keras.layers.Dense(512, activation='relu', name='oculta', kernel_initializer=keras.initializers.RandomNormal(seed=142))\n",
        "```\n",
        "\n",
        "- `keras.layers.Dense`: Esta é uma camada densamente conectada (também conhecida como camada totalmente conectada). Cada neurônio (ou unidade) em uma camada densa recebe entrada de todos os neurônios da camada anterior.\n",
        "\n",
        "- `512`: Este é o número de neurônios ou unidades na camada densa. Uma maior quantidade de neurônios pode aumentar a capacidade do modelo de aprender padrões complexos, mas também pode levar a overfitting.\n",
        "\n",
        "- `activation='relu'`: A função de ativação ReLU (Rectified Linear Unit) é usada para introduzir não-linearidades no modelo, o que permite que a rede aprenda relações complexas nos dados. A ReLU é definida como \\(f(x) = max(0, x)\\).\n",
        "\n",
        "- `name='oculta'`: Dá um nome específico a esta camada, o que é útil para referência e visualização.\n",
        "\n",
        "- `kernel_initializer=keras.initializers.RandomNormal(seed=142)`: Este argumento especifica o inicializador para os pesos da camada. `RandomNormal` inicializa os pesos com valores aleatórios seguindo uma distribuição normal (gaussiana). O `seed=142` garante que a inicialização dos pesos seja reproducível.\n",
        "\n",
        "### Camada de Saída\n",
        "\n",
        "```python\n",
        "keras.layers.Dense(3, activation='softmax', name='saida')\n",
        "```\n",
        "\n",
        "- `3`: Este é o número de neurônios na camada de saída, que geralmente corresponde ao número de classes no seu problema de classificação. Neste caso, indica que há 3 classes possíveis para as quais a rede está fazendo previsões.\n",
        "\n",
        "- `activation='softmax'`: A função de ativação softmax é usada na camada de saída de um problema de classificação multiclasse. Ela converte os logits (saídas lineares de uma camada) em probabilidades, garantindo que elas somem 1 e, portanto, possam ser interpretadas como probabilidades de classe.\n",
        "\n",
        "- `name='saida'`: Nomeia a camada de saída, facilitando a referência e visualização."
      ],
      "metadata": {
        "id": "Hue5CqLVu03M"
      }
    },
    {
      "cell_type": "code",
      "source": [
        "modelo = keras.Sequential([keras.layers.InputLayer(input_shape=[4,], name='entrada'),\n",
        "                           keras.layers.Dense(512, activation='relu', name='oculta',\n",
        "                                              kernel_initializer=keras.initializers.RandomNormal(seed=142)),\n",
        "                           keras.layers.Dense(3, activation='softmax', name='saida')])"
      ],
      "metadata": {
        "id": "iJjtLL-EnRfa"
      },
      "execution_count": 62,
      "outputs": []
    },
    {
      "cell_type": "code",
      "source": [
        "import keras\n",
        "from tensorflow.keras.utils import plot_model\n",
        "\n",
        "\n",
        "# Definição do modelo\n",
        "modelo = keras.Sequential([\n",
        "    keras.layers.InputLayer(input_shape=[4,], name='entrada'),\n",
        "    keras.layers.Dense(512, activation='relu', name='oculta', kernel_initializer=keras.initializers.RandomNormal(seed=142)),\n",
        "    keras.layers.Dense(3, activation='softmax', name='saida')\n",
        "])\n",
        "\n",
        "# Salvar a visualização da arquitetura do modelo\n",
        "plot_model(modelo, to_file='modelo.png', show_shapes=True, show_layer_names=True)\n"
      ],
      "metadata": {
        "colab": {
          "base_uri": "https://localhost:8080/",
          "height": 312
        },
        "id": "c7gkXaDa1vXb",
        "outputId": "38f02b90-94f7-414c-ebf4-d71a785ad86d"
      },
      "execution_count": 67,
      "outputs": [
        {
          "output_type": "execute_result",
          "data": {
            "image/png": "[encoded data removed]",
            "text/plain": [
              "<IPython.core.display.Image object>"
            ]
          },
          "metadata": {},
          "execution_count": 67
        }
      ]
    },
    {
      "cell_type": "code",
      "source": [
        "modelo.summary()"
      ],
      "metadata": {
        "colab": {
          "base_uri": "https://localhost:8080/"
        },
        "id": "DC2bbw3d5XZA",
        "outputId": "7a5e5f8f-649b-4edc-9449-e43f1193427a"
      },
      "execution_count": 69,
      "outputs": [
        {
          "output_type": "stream",
          "name": "stdout",
          "text": [
            "Model: \"sequential_7\"\n",
            "_________________________________________________________________\n",
            " Layer (type)                Output Shape              Param #   \n",
            "=================================================================\n",
            " oculta (Dense)              (None, 512)               2560      \n",
            "                                                                 \n",
            " saida (Dense)               (None, 3)                 1539      \n",
            "                                                                 \n",
            "=================================================================\n",
            "Total params: 4099 (16.01 KB)\n",
            "Trainable params: 4099 (16.01 KB)\n",
            "Non-trainable params: 0 (0.00 Byte)\n",
            "_________________________________________________________________\n"
          ]
        }
      ]
    },
    {
      "cell_type": "markdown",
      "source": [
        "## Treinamento"
      ],
      "metadata": {
        "id": "dIFfE6ih8Yn0"
      }
    },
    {
      "cell_type": "markdown",
      "source": [
        "### Compilando o modelo\n",
        "Compilar o modelo se dá pelo método `compile`. Nessa etapa devemos especificar a função de perda e otimizar a ser usado. Uma opção também é especificar as métricas a serem calculadas durante o treinamento e avaliação do modelo.\n",
        "\n",
        "Compilação: Definir a função perda e a função de otimização."
      ],
      "metadata": {
        "id": "cTwoWQMV8aoc"
      }
    },
    {
      "cell_type": "code",
      "source": [
        "modelo.compile(loss='categorical_crossentropy',\n",
        "               optimizer='rmsprop',\n",
        "               metrics=['categorical_accurac`'])"
      ],
      "metadata": {
        "id": "WAOMzLun8FSz"
      },
      "execution_count": 70,
      "outputs": []
    },
    {
      "cell_type": "markdown",
      "source": [
        "Explicação:\n",
        "\n",
        "1. A perda escolida foi `categorical_accurac` pois os resultado em y são são valores categóricos.\n",
        "\n",
        "2. O uso do otimizador `rmsprop` indica que iremos treinar o modelo baseado em gradiente descendente, que calcula a média móvel de gradientes quadrados para normalizar o gradiente (processo de retropropagação seráplicado ao realizar o treinamento)\n",
        "\n",
        "3. Por esse modelo ser um classificador simples, é interessante calcular o valor da acurácia durante o treino e validação."
      ],
      "metadata": {
        "id": "0wxgzdfYCht9"
      }
    },
    {
      "cell_type": "markdown",
      "source": [
        "### Treino\n",
        "\n",
        "O treinamento é feito com o método `fit`, sendo especificado as entradas e saídas de treino, épocas e também os dados de validação.\n",
        "\n",
        "Explicação:\n",
        "1. Para treinamento é preciso os dados de entradas e saídas do conjunto de treinamento.\n",
        "2. Nesse caso o número de épocas também é essencial pois o padrão da biblioteca é 1 época, o que não é tao bom para o aprendizado.\n",
        "3. Passamos também a porcentagem do conjunto de validação para semrem considerados do conjunto de treino -30% do conjunto de treino"
      ],
      "metadata": {
        "id": "WF3WxCrcIUf0"
      }
    },
    {
      "cell_type": "markdown",
      "source": [
        "Exemplo de exibição:\n",
        "\n",
        "```\n",
        "Epoch 100/100\n",
        "3/3 [==============================] - 0s 47ms/step - loss: 0.1451 - categorical_accuracy: 0.9524 - val_loss: 0.1456 - val_categorical_accuracy: 0.9722\n",
        "```\n",
        "\n",
        "* A época de treinamento: Epoch 100/100\n",
        "* Quantidade de instâncias processadas: 3/3\n",
        "  * Aqui, temos a quantidade de amostras divididas pela número de batch_size. Normalmente a batch é definida com 32 no keras, temos 84 amostras (70% do conjunto de treino) no treinamento, resultando assim em aproximadamente 3 instâncias.\n",
        "* A barra de progresso: [==============================]\n",
        "* Tempo de treinamento de cada amostra: 0s 13ms/step\n",
        "* Perda e acurária no conjunto de treinamento: loss: 0.1506 - categorical_accuracy: 0.9524\n",
        "* Perda e acurária no conjunto de validação: val_loss: 0.1494 - val_categorical_accuracy: 0.9722\n",
        "\n"
      ],
      "metadata": {
        "id": "yVb2YExPR0HN"
      }
    },
    {
      "cell_type": "code",
      "source": [
        "epocas = 100\n",
        "historico = modelo.fit(x_treino, y_treino,\n",
        "                       epochs=epocas,\n",
        "                       validation_split=0.3)"
      ],
      "metadata": {
        "id": "UtGp6N0HCfx5"
      },
      "execution_count": null,
      "outputs": []
    },
    {
      "cell_type": "markdown",
      "source": [
        "## Avaliação\n",
        "\n",
        "\n",
        "* Aprendizado\n",
        "\n",
        "Podemos avaliar o desempenho do nosso modelo durante o treinamento com os dados de `histórico`através do método `history`e plotar o processo de aprendizado."
      ],
      "metadata": {
        "id": "9LrHD56rSYfP"
      }
    },
    {
      "cell_type": "code",
      "source": [
        "historico.history"
      ],
      "metadata": {
        "colab": {
          "base_uri": "https://localhost:8080/"
        },
        "id": "5Ojh7T-VQeDX",
        "outputId": "024ddc49-21ee-4e83-abd1-f32159f01602"
      },
      "execution_count": 72,
      "outputs": [
        {
          "output_type": "execute_result",
          "data": {
            "text/plain": [
              "{'loss': [1.057037591934204,\n",
              "  0.9896886944770813,\n",
              "  0.9379410743713379,\n",
              "  0.8985248804092407,\n",
              "  0.8617735505104065,\n",
              "  0.8281758427619934,\n",
              "  0.7994126677513123,\n",
              "  0.7765114307403564,\n",
              "  0.7419501543045044,\n",
              "  0.7185179591178894,\n",
              "  0.6947451233863831,\n",
              "  0.6694746613502502,\n",
              "  0.6481214165687561,\n",
              "  0.6248143315315247,\n",
              "  0.605061948299408,\n",
              "  0.5874290466308594,\n",
              "  0.5709865093231201,\n",
              "  0.5504347681999207,\n",
              "  0.536252498626709,\n",
              "  0.5211602449417114,\n",
              "  0.5069388151168823,\n",
              "  0.49234938621520996,\n",
              "  0.478973388671875,\n",
              "  0.4686294198036194,\n",
              "  0.4604939818382263,\n",
              "  0.4503062665462494,\n",
              "  0.43830612301826477,\n",
              "  0.42794710397720337,\n",
              "  0.41913238167762756,\n",
              "  0.41225606203079224,\n",
              "  0.4064830541610718,\n",
              "  0.397296667098999,\n",
              "  0.39081868529319763,\n",
              "  0.38174968957901,\n",
              "  0.37640801072120667,\n",
              "  0.3745836317539215,\n",
              "  0.36537981033325195,\n",
              "  0.3573681712150574,\n",
              "  0.3510280251502991,\n",
              "  0.34477147459983826,\n",
              "  0.3383897542953491,\n",
              "  0.3320271968841553,\n",
              "  0.3249576985836029,\n",
              "  0.31806692481040955,\n",
              "  0.3137013912200928,\n",
              "  0.30596011877059937,\n",
              "  0.300586462020874,\n",
              "  0.3018920123577118,\n",
              "  0.29106080532073975,\n",
              "  0.28805986046791077,\n",
              "  0.2791229486465454,\n",
              "  0.2755303382873535,\n",
              "  0.27810853719711304,\n",
              "  0.26669085025787354,\n",
              "  0.2617875635623932,\n",
              "  0.2574155032634735,\n",
              "  0.25448501110076904,\n",
              "  0.24871258437633514,\n",
              "  0.248149573802948,\n",
              "  0.24739767611026764,\n",
              "  0.23660317063331604,\n",
              "  0.2329266220331192,\n",
              "  0.23049423098564148,\n",
              "  0.2251080721616745,\n",
              "  0.2209089994430542,\n",
              "  0.21743199229240417,\n",
              "  0.21611617505550385,\n",
              "  0.22205807268619537,\n",
              "  0.2143113762140274,\n",
              "  0.2085917592048645,\n",
              "  0.2019018828868866,\n",
              "  0.19966928660869598,\n",
              "  0.19572573900222778,\n",
              "  0.19384387135505676,\n",
              "  0.19122891128063202,\n",
              "  0.19327978789806366,\n",
              "  0.19796843826770782,\n",
              "  0.18852607905864716,\n",
              "  0.1828487515449524,\n",
              "  0.17917253077030182,\n",
              "  0.18153390288352966,\n",
              "  0.17897102236747742,\n",
              "  0.17639030516147614,\n",
              "  0.1704384982585907,\n",
              "  0.16845311224460602,\n",
              "  0.1705833226442337,\n",
              "  0.17031535506248474,\n",
              "  0.16218392550945282,\n",
              "  0.1597357839345932,\n",
              "  0.15977980196475983,\n",
              "  0.16116593778133392,\n",
              "  0.15774720907211304,\n",
              "  0.15811936557292938,\n",
              "  0.15149787068367004,\n",
              "  0.14956019818782806,\n",
              "  0.1568247228860855,\n",
              "  0.14755408465862274,\n",
              "  0.14877386391162872,\n",
              "  0.14317145943641663,\n",
              "  0.14465847611427307],\n",
              " 'categorical_accuracy': [0.7023809552192688,\n",
              "  0.6785714030265808,\n",
              "  0.6785714030265808,\n",
              "  0.6785714030265808,\n",
              "  0.6785714030265808,\n",
              "  0.6785714030265808,\n",
              "  0.6785714030265808,\n",
              "  0.6785714030265808,\n",
              "  0.6785714030265808,\n",
              "  0.6785714030265808,\n",
              "  0.6785714030265808,\n",
              "  0.6785714030265808,\n",
              "  0.6785714030265808,\n",
              "  0.6785714030265808,\n",
              "  0.6785714030265808,\n",
              "  0.6785714030265808,\n",
              "  0.6904761791229248,\n",
              "  0.7023809552192688,\n",
              "  0.7142857313156128,\n",
              "  0.6904761791229248,\n",
              "  0.7142857313156128,\n",
              "  0.738095223903656,\n",
              "  0.75,\n",
              "  0.738095223903656,\n",
              "  0.8333333134651184,\n",
              "  0.8095238208770752,\n",
              "  0.8690476417541504,\n",
              "  0.8928571343421936,\n",
              "  0.8809523582458496,\n",
              "  0.8333333134651184,\n",
              "  0.8690476417541504,\n",
              "  0.8333333134651184,\n",
              "  0.8928571343421936,\n",
              "  0.8690476417541504,\n",
              "  0.9166666865348816,\n",
              "  0.8690476417541504,\n",
              "  0.8690476417541504,\n",
              "  0.9047619104385376,\n",
              "  0.9047619104385376,\n",
              "  0.9285714030265808,\n",
              "  0.9166666865348816,\n",
              "  0.9047619104385376,\n",
              "  0.9047619104385376,\n",
              "  0.9166666865348816,\n",
              "  0.9047619104385376,\n",
              "  0.9285714030265808,\n",
              "  0.9166666865348816,\n",
              "  0.9523809552192688,\n",
              "  0.9642857313156128,\n",
              "  0.9047619104385376,\n",
              "  0.9523809552192688,\n",
              "  0.9404761791229248,\n",
              "  0.9285714030265808,\n",
              "  0.9166666865348816,\n",
              "  0.9166666865348816,\n",
              "  0.9404761791229248,\n",
              "  0.9285714030265808,\n",
              "  0.9523809552192688,\n",
              "  0.9404761791229248,\n",
              "  0.9404761791229248,\n",
              "  0.9404761791229248,\n",
              "  0.9285714030265808,\n",
              "  0.9285714030265808,\n",
              "  0.9404761791229248,\n",
              "  0.9523809552192688,\n",
              "  0.9404761791229248,\n",
              "  0.9404761791229248,\n",
              "  0.9404761791229248,\n",
              "  0.976190447807312,\n",
              "  0.9404761791229248,\n",
              "  0.9523809552192688,\n",
              "  0.9523809552192688,\n",
              "  0.9404761791229248,\n",
              "  0.9642857313156128,\n",
              "  0.9404761791229248,\n",
              "  0.9642857313156128,\n",
              "  0.9166666865348816,\n",
              "  0.9642857313156128,\n",
              "  0.9523809552192688,\n",
              "  0.9523809552192688,\n",
              "  0.9404761791229248,\n",
              "  0.976190447807312,\n",
              "  0.9523809552192688,\n",
              "  0.9523809552192688,\n",
              "  0.9523809552192688,\n",
              "  0.9523809552192688,\n",
              "  0.9523809552192688,\n",
              "  0.9523809552192688,\n",
              "  0.9523809552192688,\n",
              "  0.9642857313156128,\n",
              "  0.9404761791229248,\n",
              "  0.9523809552192688,\n",
              "  0.9642857313156128,\n",
              "  0.9523809552192688,\n",
              "  0.9523809552192688,\n",
              "  0.9404761791229248,\n",
              "  0.9642857313156128,\n",
              "  0.988095223903656,\n",
              "  0.9404761791229248,\n",
              "  0.9523809552192688],\n",
              " 'val_loss': [1.0052250623703003,\n",
              "  0.9629918336868286,\n",
              "  0.9266827702522278,\n",
              "  0.8940864205360413,\n",
              "  0.8621795177459717,\n",
              "  0.8320620656013489,\n",
              "  0.8038921356201172,\n",
              "  0.780836820602417,\n",
              "  0.7570549845695496,\n",
              "  0.734376072883606,\n",
              "  0.7123461961746216,\n",
              "  0.6915356516838074,\n",
              "  0.6713233590126038,\n",
              "  0.6522908806800842,\n",
              "  0.6343081593513489,\n",
              "  0.6144628524780273,\n",
              "  0.5987719297409058,\n",
              "  0.5827395915985107,\n",
              "  0.567746102809906,\n",
              "  0.553200900554657,\n",
              "  0.5384713411331177,\n",
              "  0.5256175994873047,\n",
              "  0.5125993490219116,\n",
              "  0.49879562854766846,\n",
              "  0.48965984582901,\n",
              "  0.47827163338661194,\n",
              "  0.46824419498443604,\n",
              "  0.45984554290771484,\n",
              "  0.45346981287002563,\n",
              "  0.4428368806838989,\n",
              "  0.4407845437526703,\n",
              "  0.4288058578968048,\n",
              "  0.4247697591781616,\n",
              "  0.4094117283821106,\n",
              "  0.40924695134162903,\n",
              "  0.40352049469947815,\n",
              "  0.38788437843322754,\n",
              "  0.38138455152511597,\n",
              "  0.3746943473815918,\n",
              "  0.3698737621307373,\n",
              "  0.3654005825519562,\n",
              "  0.3554004430770874,\n",
              "  0.346692830324173,\n",
              "  0.3408098518848419,\n",
              "  0.33187195658683777,\n",
              "  0.33573970198631287,\n",
              "  0.31790125370025635,\n",
              "  0.3126695454120636,\n",
              "  0.3089883029460907,\n",
              "  0.30192244052886963,\n",
              "  0.29705777764320374,\n",
              "  0.29089227318763733,\n",
              "  0.29346030950546265,\n",
              "  0.282227098941803,\n",
              "  0.2771758735179901,\n",
              "  0.27170073986053467,\n",
              "  0.26826751232147217,\n",
              "  0.2615906000137329,\n",
              "  0.25920090079307556,\n",
              "  0.2526687979698181,\n",
              "  0.2504427134990692,\n",
              "  0.24396160244941711,\n",
              "  0.23947633802890778,\n",
              "  0.23625026643276215,\n",
              "  0.2364300936460495,\n",
              "  0.22667352855205536,\n",
              "  0.22979696094989777,\n",
              "  0.22796551883220673,\n",
              "  0.2163291573524475,\n",
              "  0.21321064233779907,\n",
              "  0.21136191487312317,\n",
              "  0.20804543793201447,\n",
              "  0.20267808437347412,\n",
              "  0.20859122276306152,\n",
              "  0.19890229403972626,\n",
              "  0.19357699155807495,\n",
              "  0.19097940623760223,\n",
              "  0.18830972909927368,\n",
              "  0.18751321732997894,\n",
              "  0.18313974142074585,\n",
              "  0.18314605951309204,\n",
              "  0.17770862579345703,\n",
              "  0.17575852572917938,\n",
              "  0.17294549942016602,\n",
              "  0.16995753347873688,\n",
              "  0.1713695526123047,\n",
              "  0.16693061590194702,\n",
              "  0.16319720447063446,\n",
              "  0.16057896614074707,\n",
              "  0.1701134741306305,\n",
              "  0.16064970195293427,\n",
              "  0.1574958860874176,\n",
              "  0.15169312059879303,\n",
              "  0.151701420545578,\n",
              "  0.14839407801628113,\n",
              "  0.14794620871543884,\n",
              "  0.14842475950717926,\n",
              "  0.14182645082473755,\n",
              "  0.14045500755310059,\n",
              "  0.1383885145187378],\n",
              " 'val_categorical_accuracy': [0.6388888955116272,\n",
              "  0.6388888955116272,\n",
              "  0.6388888955116272,\n",
              "  0.6388888955116272,\n",
              "  0.6388888955116272,\n",
              "  0.6388888955116272,\n",
              "  0.6388888955116272,\n",
              "  0.6388888955116272,\n",
              "  0.6388888955116272,\n",
              "  0.6388888955116272,\n",
              "  0.6388888955116272,\n",
              "  0.6388888955116272,\n",
              "  0.6388888955116272,\n",
              "  0.6388888955116272,\n",
              "  0.6388888955116272,\n",
              "  0.6666666865348816,\n",
              "  0.6666666865348816,\n",
              "  0.6666666865348816,\n",
              "  0.6666666865348816,\n",
              "  0.6666666865348816,\n",
              "  0.6666666865348816,\n",
              "  0.6666666865348816,\n",
              "  0.6666666865348816,\n",
              "  0.8888888955116272,\n",
              "  0.7777777910232544,\n",
              "  0.8888888955116272,\n",
              "  0.8888888955116272,\n",
              "  0.8333333134651184,\n",
              "  0.7777777910232544,\n",
              "  0.8055555820465088,\n",
              "  0.7777777910232544,\n",
              "  0.7777777910232544,\n",
              "  0.7777777910232544,\n",
              "  0.8888888955116272,\n",
              "  0.7777777910232544,\n",
              "  0.7777777910232544,\n",
              "  0.9444444179534912,\n",
              "  0.9444444179534912,\n",
              "  0.9722222089767456,\n",
              "  0.9166666865348816,\n",
              "  0.8888888955116272,\n",
              "  0.9444444179534912,\n",
              "  0.9722222089767456,\n",
              "  0.9444444179534912,\n",
              "  0.9722222089767456,\n",
              "  0.8888888955116272,\n",
              "  0.9722222089767456,\n",
              "  0.9722222089767456,\n",
              "  0.9444444179534912,\n",
              "  0.9722222089767456,\n",
              "  0.9722222089767456,\n",
              "  0.9722222089767456,\n",
              "  0.9444444179534912,\n",
              "  0.9722222089767456,\n",
              "  0.9722222089767456,\n",
              "  0.9722222089767456,\n",
              "  0.9722222089767456,\n",
              "  0.9722222089767456,\n",
              "  0.9444444179534912,\n",
              "  0.9722222089767456,\n",
              "  0.9722222089767456,\n",
              "  1.0,\n",
              "  0.9722222089767456,\n",
              "  0.9722222089767456,\n",
              "  0.9722222089767456,\n",
              "  0.9722222089767456,\n",
              "  0.9444444179534912,\n",
              "  0.9444444179534912,\n",
              "  0.9722222089767456,\n",
              "  0.9722222089767456,\n",
              "  0.9722222089767456,\n",
              "  0.9722222089767456,\n",
              "  0.9722222089767456,\n",
              "  0.9722222089767456,\n",
              "  0.9722222089767456,\n",
              "  1.0,\n",
              "  0.9722222089767456,\n",
              "  0.9722222089767456,\n",
              "  1.0,\n",
              "  0.9722222089767456,\n",
              "  0.9722222089767456,\n",
              "  0.9722222089767456,\n",
              "  0.9722222089767456,\n",
              "  0.9722222089767456,\n",
              "  0.9722222089767456,\n",
              "  0.9722222089767456,\n",
              "  0.9722222089767456,\n",
              "  0.9722222089767456,\n",
              "  0.9722222089767456,\n",
              "  0.9722222089767456,\n",
              "  0.9444444179534912,\n",
              "  0.9722222089767456,\n",
              "  0.9722222089767456,\n",
              "  0.9722222089767456,\n",
              "  0.9722222089767456,\n",
              "  0.9722222089767456,\n",
              "  0.9722222089767456,\n",
              "  0.9722222089767456,\n",
              "  0.9722222089767456,\n",
              "  0.9722222089767456]}"
            ]
          },
          "metadata": {},
          "execution_count": 72
        }
      ]
    },
    {
      "cell_type": "code",
      "source": [
        "import pandas as pd\n",
        "\n",
        "pd.DataFrame(historico.history).plot()\n",
        "plt.grid()\n",
        "plt.show()"
      ],
      "metadata": {
        "colab": {
          "base_uri": "https://localhost:8080/",
          "height": 430
        },
        "id": "dpDzh9OxSvx7",
        "outputId": "4b47edd4-d167-48f3-9dbb-ef4158fc9f78"
      },
      "execution_count": 74,
      "outputs": [
        {
          "output_type": "display_data",
          "data": {
            "text/plain": [
              "<Figure size 640x480 with 1 Axes>"
            ],
            "image/png": "[encoded data removed]"
          },
          "metadata": {}
        }
      ]
    },
    {
      "cell_type": "markdown",
      "source": [
        "\n",
        "\n",
        "\n",
        "\n",
        "Para observar mais de perto o aprendizado do modelo podemos plotar curvas individuais e perceber como no aprendizado, ambos os conjuntos obtiveram resultados similares. Isso nos garante que não ocorreu sobreajuste no treinamento.\n",
        "\n",
        "A constancia das curvas é diferente pois os valores de erro da validação é calculada por época e para o treinamento é feito uma média dos valores de erro durante as iterações de cada época.\n",
        "\n",
        "\n"
      ],
      "metadata": {
        "id": "Y3IhO3ddT-Ip"
      }
    },
    {
      "cell_type": "code",
      "source": [
        "import matplotlib.pyplot as plt\n",
        "\n",
        "\n",
        "fig, ax = plt.subplots(1, 2, figsize=(14, 5))\n",
        "ax[0].plot(historico.history['loss'], color='#111487', linewidth=3, label=\"Perda de Treino\")\n",
        "ax[0].plot(historico.history['val_loss'], color='#EFA316', linewidth=3, label=\"Perda da validação\")\n",
        "legend = ax[0].legend(loc='best', shadow=True)\n",
        "\n",
        "\n",
        "ax[1].plot(historico.history['categorical_accuracy'], color='#111487', linewidth=3, label=\"Acurácia de treinamento\")\n",
        "ax[1].plot(historico.history['val_categorical_accuracy'], color='#EFA316', linewidth=3, label=\"Acurácia de validação\")\n",
        "legend = ax[1].legend(loc='best', shadow=True)\n",
        "\n",
        "plt.suptitle('Desempenho do treinamento', fontsize = 18)\n",
        "plt.show()"
      ],
      "metadata": {
        "colab": {
          "base_uri": "https://localhost:8080/",
          "height": 495
        },
        "id": "P2Q21TNKT0Zb",
        "outputId": "b593cf16-a7d5-401f-dee3-8871ab98db11"
      },
      "execution_count": 80,
      "outputs": [
        {
          "output_type": "display_data",
          "data": {
            "text/plain": [
              "<Figure size 1400x500 with 2 Axes>"
            ],
            "image/png": "[encoded data removed]"
          },
          "metadata": {}
        }
      ]
    },
    {
      "cell_type": "markdown",
      "source": [
        "## Teste\n",
        "\n",
        "Podemos testar o modelo e verificar seu resultado final atraves do método evaluate que nos mostra a perda e acuracia obtida no conjunto de teste"
      ],
      "metadata": {
        "id": "uo_pGktiWSVe"
      }
    },
    {
      "cell_type": "code",
      "source": [
        "modelo.evaluate(x_teste,y_teste)"
      ],
      "metadata": {
        "colab": {
          "base_uri": "https://localhost:8080/"
        },
        "id": "U0suAbrUV_KN",
        "outputId": "36a79994-828d-4296-9154-3fe744a65d14"
      },
      "execution_count": 78,
      "outputs": [
        {
          "output_type": "stream",
          "name": "stdout",
          "text": [
            "1/1 [==============================] - 0s 33ms/step - loss: 0.1529 - categorical_accuracy: 0.9667\n"
          ]
        },
        {
          "output_type": "execute_result",
          "data": {
            "text/plain": [
              "[0.15287253260612488, 0.9666666388511658]"
            ]
          },
          "metadata": {},
          "execution_count": 78
        }
      ]
    },
    {
      "cell_type": "markdown",
      "source": [
        "\n",
        "\n",
        "O método predict gera a predição do modelo para as entradas enviadas.\n",
        "`\n",
        "Faremos o teste: as entradas `[[0.61, 0.5, 0.69, 0.79]]` devem resultar em uma indicação de flor Virginica - [0., 0., 1.]`\n"
      ],
      "metadata": {
        "id": "_nzwEGV8WiK2"
      }
    },
    {
      "cell_type": "code",
      "source": [
        "\n",
        "modelo.predict([[0.61, 0.5, 0.69, 0.79]])\n"
      ],
      "metadata": {
        "colab": {
          "base_uri": "https://localhost:8080/"
        },
        "id": "C-L2krsAWfsk",
        "outputId": "6a2fe6b9-9972-4b8f-914d-f24c8219996d"
      },
      "execution_count": 79,
      "outputs": [
        {
          "output_type": "stream",
          "name": "stdout",
          "text": [
            "1/1 [==============================] - 0s 484ms/step\n"
          ]
        },
        {
          "output_type": "execute_result",
          "data": {
            "text/plain": [
              "array([[6.0722832e-05, 2.0029736e-01, 7.9964191e-01]], dtype=float32)"
            ]
          },
          "metadata": {},
          "execution_count": 79
        }
      ]
    }
  ]
}